{
 "cells": [
  {
   "cell_type": "code",
   "execution_count": null,
   "metadata": {
    "collapsed": true
   },
   "outputs": [],
   "source": [
    "import numpy as np\n",
    "import pandas as pd\n",
    "import seaborn as sns\n",
    "from matplotlib import pyplot as plt\n",
    "from sklearn import tree\n",
    "from sklearn.linear_model import LogisticRegression\n",
    "from sklearn.metrics import confusion_matrix\n",
    "from sklearn.metrics import mean_squared_error\n",
    "from sklearn.model_selection import train_test_split"
   ]
  },
  {
   "cell_type": "markdown",
   "source": [
    "## Data reading, cleaning"
   ],
   "metadata": {
    "collapsed": false,
    "pycharm": {
     "name": "#%% md\n"
    }
   }
  },
  {
   "cell_type": "code",
   "execution_count": null,
   "outputs": [],
   "source": [
    "data = pd.read_csv('tracks.csv', encoding='utf-8')\n",
    "missing = data.isnull().sum()\n",
    "# print(missing) # -> csak a name oszlopban vannak Null értékek\n",
    "# data['name'].replace('', np.nan, inplace=True)\n",
    "data.dropna(subset=['name'], inplace=True)\n",
    "data.drop(['id_artists', 'key', 'mode', 'time_signature'], 'columns', inplace=True)\n",
    "# data['explicit'] = data['explicit'].astype('bool')\n",
    "data['release_date'] = data['release_date'].str[:4]"
   ],
   "metadata": {
    "collapsed": false,
    "pycharm": {
     "name": "#%%\n"
    }
   }
  },
  {
   "cell_type": "markdown",
   "source": [
    "## Bar chart"
   ],
   "metadata": {
    "collapsed": false
   }
  },
  {
   "cell_type": "code",
   "execution_count": null,
   "outputs": [],
   "source": [
    "df2 = data\n",
    "df2['decade'] = (df2['release_date'].str[:3] + '0').astype('int')\n",
    "data.drop(data[data['decade'] == 1900].index, inplace=True)\n",
    "decade_list = df2['decade'].drop_duplicates().tolist()\n",
    "decade_list.sort()\n",
    "print(df2['decade'].value_counts().sort_values())\n",
    "count = df2['decade'].value_counts().sort_index()\n",
    "plt.gcf().set_size_inches(14, 10)\n",
    "\n",
    "count.plot.bar(color='lightseagreen', zorder=10)\n",
    "plt.grid(zorder=0, color='gainsboro', linestyle='--')\n",
    "plt.title('Zeneszámok megoszlása évtizedenként', fontsize=24, pad=13)\n",
    "plt.ylabel('Darabszám', fontsize=22, labelpad=10)\n",
    "plt.xlabel('Évtizedek', fontsize=22, labelpad=10)\n",
    "plt.yticks(rotation=45, fontsize=16)\n",
    "plt.xticks(rotation=45, fontsize=16)\n",
    "\n",
    "plt.figure(figsize=(14, 7))\n",
    "plt.show()"
   ],
   "metadata": {
    "collapsed": false,
    "pycharm": {
     "name": "#%%\n"
    }
   }
  },
  {
   "cell_type": "markdown",
   "source": [
    "## Boxplot"
   ],
   "metadata": {
    "collapsed": false
   }
  },
  {
   "cell_type": "code",
   "execution_count": null,
   "outputs": [],
   "source": [
    "twenty = df2[df2['decade'] >= 2000]\n",
    "\n",
    "plt.figure(figsize=(12, 10))\n",
    "twenty.drop(['duration_ms', 'loudness', 'decade', 'popularity', 'tempo', 'explicit', 'instrumentalness'], 'columns',\n",
    "            inplace=True)\n",
    "bp = twenty.boxplot(notch=True, vert=True, patch_artist=True,\n",
    "                    medianprops=dict(linestyle='solid', linewidth=4, color='y'),\n",
    "                    whiskerprops=dict(linestyle='solid', linewidth=1, color='k'),\n",
    "                    capprops=dict(linestyle='solid', linewidth=4, color='orange'),\n",
    "                    boxprops=dict(color='black'),\n",
    "                    flierprops=dict(markerfacecolor='r', marker='s', mew=0.5))\n",
    "plt.xticks(rotation=45, fontsize=13)\n",
    "plt.yticks(fontsize=13)\n",
    "\n",
    "plt.show()"
   ],
   "metadata": {
    "collapsed": false,
    "pycharm": {
     "name": "#%%\n"
    }
   }
  },
  {
   "cell_type": "markdown",
   "source": [
    "## Trends"
   ],
   "metadata": {
    "collapsed": false
   }
  },
  {
   "cell_type": "code",
   "execution_count": null,
   "outputs": [],
   "source": [
    "df = data.copy()\n",
    "\n",
    "df['release_date'] = pd.to_datetime(df['release_date'])\n",
    "df['year'] = df.apply(lambda row: row.release_date.year, axis=1)\n",
    "year_avg = df[[\"acousticness\", \"danceability\", \"energy\", \"instrumentalness\", \"liveness\", \"tempo\", \"valence\",\n",
    "               \"loudness\", \"speechiness\", \"year\"]].groupby(\"year\").mean().sort_values(by=\"year\").reset_index()\n",
    "\n",
    "plt.figure(figsize=(14, 8))\n",
    "plt.title(\"Zenei trendek az éveken át\", fontsize=22)\n",
    "\n",
    "lines = [\"acousticness\", \"danceability\", \"energy\", \"instrumentalness\", \"liveness\", \"valence\", \"speechiness\"]\n",
    "\n",
    "for line in lines:\n",
    "    ax = sns.lineplot(x='year', y=line, data=year_avg)\n",
    "\n",
    "plt.xlabel(\"Évszámok\", labelpad=12, fontsize=16)\n",
    "plt.ylabel(\"Értékek 0 és 1 között\", labelpad=12, fontsize=16)\n",
    "plt.legend(lines)\n",
    "plt.axis([1930, 2020, 0, 1])\n",
    "plt.show()"
   ],
   "metadata": {
    "collapsed": false,
    "pycharm": {
     "name": "#%%\n"
    }
   }
  },
  {
   "cell_type": "markdown",
   "source": [
    "## Heatmap"
   ],
   "metadata": {
    "collapsed": false
   }
  },
  {
   "cell_type": "code",
   "execution_count": null,
   "outputs": [],
   "source": [
    "twenty = df2[df2['decade'] >= 2000]\n",
    "corr = twenty.corr()\n",
    "plt.figure(figsize=(12, 11))\n",
    "sns.color_palette(\"icefire\", as_cmap=True)\n",
    "sns.heatmap(corr, vmax=1, vmin=-1, center=0, linewidth=.5, square=True, annot=True, annot_kws={'size': 8}, fmt='.1f',\n",
    "            cmap='icefire')\n",
    "plt.xticks(rotation=45, fontsize=12)\n",
    "plt.yticks(rotation=45, fontsize=12)\n",
    "plt.title('Korrelációs mátrix', fontsize=25, pad=20)\n",
    "plt.show()"
   ],
   "metadata": {
    "collapsed": false,
    "pycharm": {
     "name": "#%%\n"
    }
   }
  },
  {
   "cell_type": "markdown",
   "source": [
    "## Split train and test data"
   ],
   "metadata": {
    "collapsed": false
   }
  },
  {
   "cell_type": "code",
   "execution_count": null,
   "outputs": [],
   "source": [
    "model_df = twenty[['explicit', 'danceability', 'speechiness']]\n",
    "X = model_df.drop('explicit', 'columns')\n",
    "y = model_df['explicit']\n",
    "\n",
    "X_train, X_test, y_train, y_test = train_test_split(X, y, test_size=0.1, shuffle=True)"
   ],
   "metadata": {
    "collapsed": false,
    "pycharm": {
     "name": "#%%\n"
    }
   }
  },
  {
   "cell_type": "markdown",
   "source": [
    "## Model building"
   ],
   "metadata": {
    "collapsed": false
   }
  },
  {
   "cell_type": "code",
   "execution_count": null,
   "outputs": [],
   "source": [
    "def modeling(model):\n",
    "    log_model = model\n",
    "    print(model)\n",
    "    log_model.fit(X_train, y_train)\n",
    "    y_pred = log_model.predict(X_test)\n",
    "    print(np.sqrt(mean_squared_error(y_test, y_pred)))\n",
    "    conf_y_test = y_test.to_numpy(copy=True)\n",
    "    confusion = confusion_matrix(conf_y_test, y_pred)\n",
    "    print(confusion)\n",
    "    fig, ax = plt.subplots(figsize=(8, 8))\n",
    "    ax.imshow(confusion, cmap='BrBG_r')\n",
    "    ax.grid(False)\n",
    "    ax.xaxis.set(ticks=(0, 1), ticklabels=('Predicted False', 'Predicted True'))\n",
    "    ax.yaxis.set(ticks=(0, 1), ticklabels=('Actual False', 'Actual True'))\n",
    "    ax.set_ylim(1.5, -0.5)\n",
    "    for i in range(2):\n",
    "        for j in range(2):\n",
    "            ax.text(j, i, confusion[i, j], ha='center', va='center', color='white', fontsize=16)\n",
    "    plt.title('Confusion Matrix of Explicity', fontsize=18)\n",
    "    plt.show()\n",
    "\n",
    "\n",
    "modeling(LogisticRegression())\n",
    "modeling(LogisticRegression(penalty='l1', solver='liblinear'))  # -> same result\n",
    "modeling(LogisticRegression(penalty='l2', solver='liblinear'))  # -> same result\n",
    "modeling(tree.DecisionTreeClassifier(max_depth=9))"
   ],
   "metadata": {
    "collapsed": false,
    "pycharm": {
     "name": "#%%\n"
    }
   }
  },
  {
   "cell_type": "markdown",
   "source": [
    "## Decision Tree Plot"
   ],
   "metadata": {
    "collapsed": false
   }
  },
  {
   "cell_type": "code",
   "execution_count": null,
   "outputs": [],
   "source": [
    "dec_tree = tree.DecisionTreeClassifier(max_depth=9)\n",
    "dec_tree.fit(X_train, y_train)\n",
    "y_pred = dec_tree.predict(X_test)\n",
    "tree.plot_tree(dec_tree)\n",
    "plt.show()\n",
    "print(np.sqrt(mean_squared_error(y_test, y_pred)))"
   ],
   "metadata": {
    "collapsed": false,
    "pycharm": {
     "name": "#%%\n"
    }
   }
  },
  {
   "cell_type": "markdown",
   "source": [
    "## Pie chart"
   ],
   "metadata": {
    "collapsed": false
   }
  },
  {
   "cell_type": "code",
   "execution_count": null,
   "outputs": [],
   "source": [
    "pie_df = twenty['explicit'].astype('bool')\n",
    "pie_df_true = np.count_nonzero(pie_df)\n",
    "pie_df_false = np.size(pie_df) - np.count_nonzero(pie_df)\n",
    "pie_data = [pie_df_false, pie_df_true]\n",
    "labels = ['Non-Explicit', 'Explicit']\n",
    "fig1, ax1 = plt.subplots()\n",
    "ax1.pie(pie_data, labels=labels, autopct='%1.1f%%', startangle=90, colors=['#11BA0B', '#EA0404'], explode=(0, 0.1))\n",
    "ax1.axis('equal')  # Equal aspect ratio ensures that pie is drawn as a circle.\n",
    "plt.title('Percentage of Explicity', fontsize=18, pad=15)\n",
    "plt.show()"
   ],
   "metadata": {
    "collapsed": false,
    "pycharm": {
     "name": "#%%\n"
    }
   }
  }
 ],
 "metadata": {
  "kernelspec": {
   "display_name": "Python 3",
   "language": "python",
   "name": "python3"
  },
  "language_info": {
   "codemirror_mode": {
    "name": "ipython",
    "version": 2
   },
   "file_extension": ".py",
   "mimetype": "text/x-python",
   "name": "python",
   "nbconvert_exporter": "python",
   "pygments_lexer": "ipython2",
   "version": "2.7.6"
  }
 },
 "nbformat": 4,
 "nbformat_minor": 0
}